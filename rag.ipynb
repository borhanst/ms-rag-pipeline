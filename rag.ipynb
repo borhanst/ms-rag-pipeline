{
 "cells": [
  {
   "cell_type": "code",
   "execution_count": 1,
   "id": "d873d207",
   "metadata": {},
   "outputs": [],
   "source": [
    "from langchain_text_splitters import TextSplitter\n",
    "from langchain_community.document_loaders import PyPDFLoader"
   ]
  },
  {
   "cell_type": "code",
   "execution_count": 2,
   "id": "b2eea80a",
   "metadata": {},
   "outputs": [],
   "source": [
    "def get_documents(file_path):\n",
    "    loader = PyPDFLoader(file_path)\n",
    "    return loader.load()"
   ]
  },
  {
   "cell_type": "code",
   "execution_count": 4,
   "id": "5c33c029",
   "metadata": {},
   "outputs": [],
   "source": [
    "book_document = get_documents(\"HSC26-Bangla1st-Paper.pdf\")"
   ]
  },
  {
   "cell_type": "code",
   "execution_count": null,
   "id": "4f5b9371",
   "metadata": {},
   "outputs": [
    {
     "name": "stdout",
     "output_type": "stream",
     "text": [
      "49\n"
     ]
    }
   ],
   "source": [
    "\n",
    "print(len(book_document))"
   ]
  }
 ],
 "metadata": {
  "kernelspec": {
   "display_name": "ms-rag-pipline",
   "language": "python",
   "name": "python3"
  },
  "language_info": {
   "codemirror_mode": {
    "name": "ipython",
    "version": 3
   },
   "file_extension": ".py",
   "mimetype": "text/x-python",
   "name": "python",
   "nbconvert_exporter": "python",
   "pygments_lexer": "ipython3",
   "version": "3.11.11"
  }
 },
 "nbformat": 4,
 "nbformat_minor": 5
}
